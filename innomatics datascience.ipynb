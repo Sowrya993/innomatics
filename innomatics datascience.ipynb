{
 "cells": [
  {
   "cell_type": "code",
   "execution_count": 5,
   "id": "3f6f3012",
   "metadata": {},
   "outputs": [],
   "source": [
    "#importing libraries and datasets\n",
    "import pandas as pd\n",
    "import numpy as np\n",
    "movies=pd.read_csv(\"C:\\\\Users\\\\MudraboinaSowryasree\\\\Downloads\\\\movies.csv\")\n",
    "links=pd.read_csv(\"C:\\\\Users\\\\MudraboinaSowryasree\\\\Downloads\\\\links.csv\")\n",
    "rating=pd.read_csv(\"C:\\\\Users\\\\MudraboinaSowryasree\\\\Downloads\\\\ratings.csv\")\n",
    "tags=pd.read_csv(\"C:\\\\Users\\\\MudraboinaSowryasree\\\\Downloads\\\\tags.csv\")\n",
    "\n",
    "# 1)The avilable .CSV files in the datatset are four(4)."
   ]
  },
  {
   "cell_type": "code",
   "execution_count": 7,
   "id": "b5b4e95a",
   "metadata": {},
   "outputs": [
    {
     "data": {
      "text/plain": [
       "(9742, 3)"
      ]
     },
     "execution_count": 7,
     "metadata": {},
     "output_type": "execute_result"
    }
   ],
   "source": [
    "# The shape of the movies dataset\n",
    "movies.shape"
   ]
  },
  {
   "cell_type": "code",
   "execution_count": 9,
   "id": "eb358c82",
   "metadata": {},
   "outputs": [
    {
     "data": {
      "text/plain": [
       "(100836, 4)"
      ]
     },
     "execution_count": 9,
     "metadata": {},
     "output_type": "execute_result"
    }
   ],
   "source": [
    "# The shape of the ratings dataset\n",
    "rating.shape"
   ]
  },
  {
   "cell_type": "code",
   "execution_count": 24,
   "id": "00a87808",
   "metadata": {},
   "outputs": [
    {
     "name": "stdout",
     "output_type": "stream",
     "text": [
      "610\n"
     ]
    }
   ],
   "source": [
    "# The unique userId presnt in ratings.csv\n",
    "count=rating['userId'].nunique()\n",
    "print(count)"
   ]
  },
  {
   "cell_type": "code",
   "execution_count": 26,
   "id": "6fb7225f",
   "metadata": {},
   "outputs": [
    {
     "name": "stdout",
     "output_type": "stream",
     "text": [
      "The average user rating for 'Terminator 2: Judgment Day (1991)' is 3.97\n"
     ]
    }
   ],
   "source": [
    "# The average user rating for movie named \"Terminator 2: Judgment Day (1991)\n",
    "merged_data = pd.merge(rating, movies, on='movieId')\n",
    "terminator_2 = merged_data[merged_data['title'] == 'Terminator 2: Judgment Day (1991)']\n",
    "average_rating = terminator_2['rating'].mean()\n",
    "print(f\"The average user rating for 'Terminator 2: Judgment Day (1991)' is {average_rating:.2f}\")\n"
   ]
  },
  {
   "cell_type": "code",
   "execution_count": 29,
   "id": "0e42f695",
   "metadata": {},
   "outputs": [
    {
     "name": "stdout",
     "output_type": "stream",
     "text": [
      "The movie that received the maximum number of user ratings is: Forrest Gump (1994)\n"
     ]
    }
   ],
   "source": [
    "# The movie which has recieved the maximum number of user ratings\n",
    "ratings_count = rating['movieId'].value_counts()\n",
    "max_ratings_movie_id = ratings_count.idxmax()\n",
    "max_ratings_movie_title = movies.loc[movies['movieId'] == max_ratings_movie_id, 'title'].values[0]\n",
    "print(f\"The movie that received the maximum number of user ratings is: {max_ratings_movie_title}\")\n"
   ]
  },
  {
   "cell_type": "code",
   "execution_count": 30,
   "id": "e653d6a9",
   "metadata": {},
   "outputs": [
    {
     "name": "stdout",
     "output_type": "stream",
     "text": [
      "Tags for 'Matrix, The (1999)': ['martial arts' 'sci-fi' 'alternate universe' 'philosophy'\n",
      " 'post apocalyptic']\n"
     ]
    }
   ],
   "source": [
    "# The tags submitted by users to \"Matrix, The (1999)\" movie\n",
    "matrix_movie_id = movies.loc[movies['title'] == 'Matrix, The (1999)', 'movieId'].values[0]\n",
    "matrix_tags = tags.loc[tags['movieId'] == matrix_movie_id, 'tag']\n",
    "unique_matrix_tags = matrix_tags.unique()\n",
    "print(f\"Tags for 'Matrix, The (1999)': {unique_matrix_tags}\")\n"
   ]
  },
  {
   "cell_type": "code",
   "execution_count": 36,
   "id": "e1a18814",
   "metadata": {},
   "outputs": [
    {
     "data": {
      "image/png": "[encoded data removed]",
      "text/plain": [
       "<Figure size 800x600 with 1 Axes>"
      ]
     },
     "metadata": {},
     "output_type": "display_data"
    }
   ],
   "source": [
    "# The data distribution of user ratings for \"Fight Club (1999)\" movie looks like\n",
    "import matplotlib.pyplot as plt\n",
    "fight_club_movie_id = movies.loc[movies['title'] == 'Fight Club (1999)', 'movieId'].values[0]\n",
    "fight_club_ratings = rating.loc[rating['movieId'] == fight_club_movie_id, 'rating']\n",
    "plt.figure(figsize=(8, 6))\n",
    "plt.hist(fight_club_ratings, bins=10)\n",
    "plt.title(' Ratings Distribution for Fight Club (1999)')\n",
    "plt.xlabel('Rating')\n",
    "plt.ylabel('Frequency')\n",
    "plt.show()\n"
   ]
  },
  {
   "cell_type": "code",
   "execution_count": 56,
   "id": "1e2e875e",
   "metadata": {},
   "outputs": [
    {
     "name": "stdout",
     "output_type": "stream",
     "text": [
      "      movieId  count      mean                             title  \\\n",
      "0           1    215  3.920930                  Toy Story (1995)   \n",
      "1           2    110  3.431818                    Jumanji (1995)   \n",
      "2           3     52  3.259615           Grumpier Old Men (1995)   \n",
      "5           6    102  3.946078                       Heat (1995)   \n",
      "6           7     54  3.185185                    Sabrina (1995)   \n",
      "...       ...    ...       ...                               ...   \n",
      "8287   106782     54  3.916667   Wolf of Wall Street, The (2013)   \n",
      "8354   109374     52  3.778846  Grand Budapest Hotel, The (2014)   \n",
      "8358   109487     73  3.993151               Interstellar (2014)   \n",
      "8457   112852     59  4.050847    Guardians of the Galaxy (2014)   \n",
      "8673   122904     54  3.833333                   Deadpool (2016)   \n",
      "\n",
      "                                           genres  \n",
      "0     Adventure|Animation|Children|Comedy|Fantasy  \n",
      "1                      Adventure|Children|Fantasy  \n",
      "2                                  Comedy|Romance  \n",
      "5                           Action|Crime|Thriller  \n",
      "6                                  Comedy|Romance  \n",
      "...                                           ...  \n",
      "8287                           Comedy|Crime|Drama  \n",
      "8354                                 Comedy|Drama  \n",
      "8358                                  Sci-Fi|IMAX  \n",
      "8457                      Action|Adventure|Sci-Fi  \n",
      "8673               Action|Adventure|Comedy|Sci-Fi  \n",
      "\n",
      "[436 rows x 5 columns]\n"
     ]
    }
   ],
   "source": [
    "# mandatory Operations\n",
    "# Grouping the user ratings based on movieId and apply aggregation operations like count and mean on ratings\n",
    "grouped_ratings = rating.groupby('movieId')['rating'].agg(['count', 'mean']).reset_index()\n",
    "\n",
    "# Applying inner join on dataframe created from movies.csv and the grouped df from step 1\n",
    "merged_data = pd.merge(grouped_ratings, movies, on='movieId', how='inner')\n",
    "\n",
    "# Filtering only those movies which have more than 50 user ratings (i.e. > 50)\n",
    "filtered_movies = merged_data[merged_data['count'] > 50]\n",
    "\n",
    "# Display the resulting dataframe with movies having more than 50 ratings\n",
    "print(filtered_movies)\n"
   ]
  },
  {
   "cell_type": "code",
   "execution_count": 45,
   "id": "5a6134ac",
   "metadata": {
    "scrolled": false
   },
   "outputs": [
    {
     "name": "stdout",
     "output_type": "stream",
     "text": [
      "The most popular movie(s) based on average user ratings is/are:\n",
      "Shawshank Redemption, The (1994)\n"
     ]
    }
   ],
   "source": [
    "#  The most popular movie based on  average user ratings\n",
    "if not filtered_movies.empty:\n",
    "    highest_rated_movies = filtered_movies[filtered_movies['mean'] == filtered_movies['mean'].max()]['title']\n",
    "    print(f\"The most popular movie(s) based on average user ratings is/are:\")\n",
    "    for movie in highest_rated_movies:\n",
    "        print(movie)\n",
    "else:\n",
    "    print(\"No movies in the dataset have more than 50 user ratings.\")"
   ]
  },
  {
   "cell_type": "code",
   "execution_count": 61,
   "id": "56bc11eb",
   "metadata": {},
   "outputs": [
    {
     "name": "stdout",
     "output_type": "stream",
     "text": [
      "Options under top 5 popular movies based on number of user ratings:\n",
      "Forrest Gump (1994)\n",
      "Shawshank Redemption, The (1994)\n",
      "Pulp Fiction (1994)\n",
      "Silence of the Lambs, The (1991)\n",
      "Matrix, The (1999)\n"
     ]
    }
   ],
   "source": [
    "# The top 5 popular movies based on number of user ratings\n",
    "sorted_movies = filtered_movies.sort_values(by='count', ascending=False)\n",
    "top_5_popular_movies = sorted_movies.head(5)\n",
    "print(\"The top 5 popular movies based on number of user ratings:\")\n",
    "for movie_title in top_5_popular_movies['title']:\n",
    "    print(movie_title)\n"
   ]
  },
  {
   "cell_type": "code",
   "execution_count": 62,
   "id": "6e87167b",
   "metadata": {},
   "outputs": [
    {
     "name": "stdout",
     "output_type": "stream",
     "text": [
      "The third most popular Sci-Fi movie based on number of user ratings is: Jurassic Park (1993)\n"
     ]
    }
   ],
   "source": [
    "# The \"third most popular\" Sci-Fi movie based on the number of user ratings\n",
    "sci_fi_movies = filtered_movies[filtered_movies['genres'].str.contains('Sci-Fi')]\n",
    "sorted_sci_fi = sci_fi_movies.sort_values(by='count', ascending=False)\n",
    "if len(sorted_sci_fi) >= 3:\n",
    "    third_most_popular_sci_fi = sorted_sci_fi.iloc[2]  # Third entry in zero-based index\n",
    "    print(f\"The third most popular Sci-Fi movie based on number of user ratings is: {third_most_popular_sci_fi['title']}\")\n",
    "else:\n",
    "    print(\"There are not enough Sci-Fi movies with more than 50 ratings to determine the third most popular.\")\n"
   ]
  },
  {
   "cell_type": "code",
   "execution_count": null,
   "id": "c47265c9",
   "metadata": {},
   "outputs": [],
   "source": []
  }
 ],
 "metadata": {
  "kernelspec": {
   "display_name": "Python 3 (ipykernel)",
   "language": "python",
   "name": "python3"
  },
  "language_info": {
   "codemirror_mode": {
    "name": "ipython",
    "version": 3
   },
   "file_extension": ".py",
   "mimetype": "text/x-python",
   "name": "python",
   "nbconvert_exporter": "python",
   "pygments_lexer": "ipython3",
   "version": "3.9.13"
  }
 },
 "nbformat": 4,
 "nbformat_minor": 5
}
